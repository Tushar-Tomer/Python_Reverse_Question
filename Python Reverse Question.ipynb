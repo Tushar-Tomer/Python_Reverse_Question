{
 "cells": [
  {
   "cell_type": "markdown",
   "id": "5207fe4d",
   "metadata": {},
   "source": [
    "# Take n numbers of input in one line and reverse the numbers with space."
   ]
  },
  {
   "cell_type": "code",
   "execution_count": 1,
   "id": "39b9521a",
   "metadata": {},
   "outputs": [
    {
     "name": "stdout",
     "output_type": "stream",
     "text": [
      "2 4 6 8 10\n",
      "10 8 6 4 2 "
     ]
    }
   ],
   "source": [
    "arr = list(map(int, input().rstrip().split()))\n",
    "arr.reverse()\n",
    "for i in arr:\n",
    "    print(i,end=\" \")"
   ]
  }
 ],
 "metadata": {
  "kernelspec": {
   "display_name": "Python 3 (ipykernel)",
   "language": "python",
   "name": "python3"
  },
  "language_info": {
   "codemirror_mode": {
    "name": "ipython",
    "version": 3
   },
   "file_extension": ".py",
   "mimetype": "text/x-python",
   "name": "python",
   "nbconvert_exporter": "python",
   "pygments_lexer": "ipython3",
   "version": "3.9.12"
  }
 },
 "nbformat": 4,
 "nbformat_minor": 5
}
